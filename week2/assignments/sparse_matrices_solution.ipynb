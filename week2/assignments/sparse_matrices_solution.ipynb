{
 "cells": [
  {
   "cell_type": "markdown",
   "id": "590ea496",
   "metadata": {},
   "source": [
    "In this assignement, feel free to use the sparse module from scipy.\n",
    "\n",
    "Use the cell below for your imports."
   ]
  },
  {
   "cell_type": "code",
   "execution_count": 1,
   "id": "562666d8",
   "metadata": {},
   "outputs": [],
   "source": [
    "import numpy as np\n",
    "from scipy.sparse import coo_matrix, csr_matrix\n",
    "from scipy.sparse.linalg import spsolve"
   ]
  },
  {
   "cell_type": "markdown",
   "id": "d65cbdea",
   "metadata": {},
   "source": [
    "implement the function mat_mul_coo that takes two sparse matrices in coo and returns their product."
   ]
  },
  {
   "cell_type": "code",
   "execution_count": 2,
   "id": "1c8e2600",
   "metadata": {},
   "outputs": [],
   "source": [
    "def mat_mul_coo(a: coo_matrix, b: coo_matrix) -> coo_matrix:\n",
    "    if a.shape[1] != b.shape[0]:\n",
    "        raise ValueError(\"Matrix dimensions do not match for multiplication\")\n",
    "\n",
    "    a_csr = csr_matrix(a)\n",
    "    b_csr = csr_matrix(b)\n",
    "\n",
    "    result = a_csr.dot(b_csr).tocoo()\n",
    "    result.sum_duplicates()\n",
    "\n",
    "    return result"
   ]
  },
  {
   "cell_type": "markdown",
   "id": "8b25b003",
   "metadata": {},
   "source": [
    "implement the function mat_mul_csr that takes two sparse matrices in csr format and returns their product."
   ]
  },
  {
   "cell_type": "code",
   "execution_count": 3,
   "id": "9385a764",
   "metadata": {},
   "outputs": [],
   "source": [
    "def mat_mul_csr(a: csr_matrix, b: csr_matrix) -> csr_matrix:\n",
    "    if a.shape[1] != b.shape[0]:\n",
    "        raise ValueError(\"Matrix dimensions do not match for multiplication\")\n",
    "\n",
    "    result = a.dot(b)\n",
    "\n",
    "    return result"
   ]
  },
  {
   "cell_type": "markdown",
   "id": "5e2527cb",
   "metadata": {},
   "source": [
    "implement a function solve_lin_sys that takes a matrix A in csr format and a vector b as a numpy array and solves the system Ax = b."
   ]
  },
  {
   "cell_type": "code",
   "execution_count": 4,
   "id": "f4156441",
   "metadata": {},
   "outputs": [],
   "source": [
    "def solve_lin_sys(A: csr_matrix, b: np.ndarray) -> np.ndarray:\n",
    "    x = spsolve(A, b)\n",
    "    return x"
   ]
  },
  {
   "cell_type": "code",
   "execution_count": 5,
   "id": "21807299",
   "metadata": {},
   "outputs": [],
   "source": [
    "data = np.array([1, 2, 3])\n",
    "row  = np.array([0, 1, 2])\n",
    "col  = np.array([0, 1, 2])\n",
    "\n",
    "sparse_matrix = coo_matrix((data, (row, col)))"
   ]
  },
  {
   "cell_type": "code",
   "execution_count": 6,
   "id": "f96b1c00",
   "metadata": {},
   "outputs": [
    {
     "data": {
      "text/plain": [
       "matrix([[1, 0, 0],\n",
       "        [0, 2, 0],\n",
       "        [0, 0, 3]])"
      ]
     },
     "execution_count": 6,
     "metadata": {},
     "output_type": "execute_result"
    }
   ],
   "source": [
    "sparse_matrix.todense()"
   ]
  },
  {
   "cell_type": "code",
   "execution_count": 7,
   "id": "3ae71795",
   "metadata": {},
   "outputs": [],
   "source": [
    "a = mat_mul_coo(sparse_matrix,sparse_matrix)"
   ]
  },
  {
   "cell_type": "code",
   "execution_count": 8,
   "id": "2149efb8",
   "metadata": {},
   "outputs": [
    {
     "data": {
      "text/plain": [
       "matrix([[1, 0, 0],\n",
       "        [0, 4, 0],\n",
       "        [0, 0, 9]], dtype=int32)"
      ]
     },
     "execution_count": 8,
     "metadata": {},
     "output_type": "execute_result"
    }
   ],
   "source": [
    "a.todense()"
   ]
  },
  {
   "cell_type": "code",
   "execution_count": 9,
   "id": "a7e734ff",
   "metadata": {},
   "outputs": [
    {
     "name": "stdout",
     "output_type": "stream",
     "text": [
      "[[1 0 2 3]\n",
      " [0 4 5 0]\n",
      " [0 0 0 6]]\n"
     ]
    }
   ],
   "source": [
    "data = np.array([1, 2, 3, 4, 5, 6])\n",
    "col_indices = np.array([0, 2, 3, 1, 2, 3])\n",
    "row_pointers = np.array([0, 3, 5, 6])\n",
    "\n",
    "sparse_matrix = csr_matrix((data, col_indices, row_pointers))\n",
    "\n",
    "dense_matrix = sparse_matrix.toarray()\n",
    "\n",
    "print(dense_matrix)"
   ]
  },
  {
   "cell_type": "code",
   "execution_count": 10,
   "id": "49bd0138",
   "metadata": {},
   "outputs": [
    {
     "name": "stdout",
     "output_type": "stream",
     "text": [
      "  (0, 0)\t1\n",
      "  (1, 1)\t2\n",
      "  (2, 2)\t3\n"
     ]
    }
   ],
   "source": [
    "dense_matrix = np.array([[1, 0, 0], [0, 2, 0], [0, 0, 3]])\n",
    "\n",
    "# create a CSR matrix from the dense matrix\n",
    "csr_matrix = csr_matrix(dense_matrix)\n",
    "\n",
    "# print the CSR matrix\n",
    "print(csr_matrix)"
   ]
  },
  {
   "cell_type": "code",
   "execution_count": 11,
   "id": "6de7638c",
   "metadata": {},
   "outputs": [],
   "source": [
    "b = mat_mul_csr(csr_matrix,csr_matrix)"
   ]
  },
  {
   "cell_type": "code",
   "execution_count": 12,
   "id": "7640ce1f",
   "metadata": {},
   "outputs": [
    {
     "data": {
      "text/plain": [
       "matrix([[1, 0, 0],\n",
       "        [0, 4, 0],\n",
       "        [0, 0, 9]], dtype=int32)"
      ]
     },
     "execution_count": 12,
     "metadata": {},
     "output_type": "execute_result"
    }
   ],
   "source": [
    "b.todense()"
   ]
  },
  {
   "cell_type": "code",
   "execution_count": null,
   "id": "71ed2532",
   "metadata": {},
   "outputs": [],
   "source": []
  }
 ],
 "metadata": {
  "kernelspec": {
   "display_name": "Python 3 (ipykernel)",
   "language": "python",
   "name": "python3"
  },
  "language_info": {
   "codemirror_mode": {
    "name": "ipython",
    "version": 3
   },
   "file_extension": ".py",
   "mimetype": "text/x-python",
   "name": "python",
   "nbconvert_exporter": "python",
   "pygments_lexer": "ipython3",
   "version": "3.9.13"
  }
 },
 "nbformat": 4,
 "nbformat_minor": 5
}
