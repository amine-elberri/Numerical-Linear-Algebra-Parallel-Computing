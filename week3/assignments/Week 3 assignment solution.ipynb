{
 "cells": [
  {
   "cell_type": "markdown",
   "id": "53cced97",
   "metadata": {},
   "source": [
    "Use this cell for all your imports"
   ]
  },
  {
   "cell_type": "code",
   "execution_count": 8,
   "id": "cdfdb288",
   "metadata": {},
   "outputs": [],
   "source": [
    "import networkx as nx\n",
    "import matplotlib.pyplot as plt\n",
    "from scipy.sparse import coo_matrix\n",
    "from scipy.sparse import csr_matrix\n"
   ]
  },
  {
   "cell_type": "markdown",
   "id": "08b7279f",
   "metadata": {},
   "source": [
    "You will be working with the file data.txt. Use this cell to load its content into the appropriate data structure."
   ]
  },
  {
   "cell_type": "code",
   "execution_count": 9,
   "id": "9dbbd48b",
   "metadata": {},
   "outputs": [],
   "source": [
    "# Read the graph data from file and create a directed graph\n",
    "data = []\n",
    "with open('C:/Users/ASUS/Downloads/data.txt', 'r') as f:\n",
    "    for line in f:\n",
    "        if line.startswith('#'):\n",
    "            continue\n",
    "        parts = line.strip().split()\n",
    "        if len(parts) != 2:\n",
    "            continue\n",
    "        data.append((int(parts[0]), int(parts[1])))\n",
    "graph = nx.DiGraph(data)\n",
    "\n"
   ]
  },
  {
   "cell_type": "markdown",
   "id": "df8700d7",
   "metadata": {},
   "source": [
    "Use this cell to normalize the matrix as you see fit."
   ]
  },
  {
   "cell_type": "code",
   "execution_count": 10,
   "id": "99504d47",
   "metadata": {},
   "outputs": [],
   "source": [
    "n_nodes = max(max(pair) for pair in data)\n",
    "row = [pair[0]-1 for pair in data]  \n",
    "col = [pair[1]-1 for pair in data]  \n",
    "adjacency_matrix = csr_matrix(([1]*len(data), (row, col)), shape=(n_nodes, n_nodes))\n"
   ]
  },
  {
   "cell_type": "markdown",
   "id": "32cfa881",
   "metadata": {},
   "source": [
    "Apply the PageRank algorithm to the matrix you created."
   ]
  },
  {
   "cell_type": "code",
   "execution_count": 13,
   "id": "a4f7fea0",
   "metadata": {},
   "outputs": [
    {
     "name": "stdout",
     "output_type": "stream",
     "text": [
      "Node: 9407087, Score: 0.006239\n",
      "Node: 9503124, Score: 0.004633\n",
      "Node: 9510017, Score: 0.004385\n",
      "Node: 9402044, Score: 0.003935\n",
      "Node: 9711200, Score: 0.003410\n",
      "Node: 9410167, Score: 0.003407\n",
      "Node: 9408099, Score: 0.003190\n",
      "Node: 9207016, Score: 0.003114\n",
      "Node: 9402002, Score: 0.002962\n",
      "Node: 9610043, Score: 0.002753\n"
     ]
    }
   ],
   "source": [
    "# Calculate PageRank scores and print top nodes\n",
    "pagerank_scores = nx.pagerank(graph)\n",
    "top_nodes = sorted(pagerank_scores.items(), key=lambda x: x[1], reverse=True)[:10]\n",
    "for node, score in top_nodes:\n",
    "    print(f\"Node: {node}, Score: {score:.6f}\")\n",
    "\n"
   ]
  },
  {
   "cell_type": "markdown",
   "id": "1ca8d48a",
   "metadata": {},
   "source": [
    "Output a list of the 100 most important papers along with their importance"
   ]
  },
  {
   "cell_type": "code",
   "execution_count": 14,
   "id": "543e8e96",
   "metadata": {},
   "outputs": [
    {
     "name": "stdout",
     "output_type": "stream",
     "text": [
      "Node: 9407087, Score: 0.006239\n",
      "Node: 9503124, Score: 0.004633\n",
      "Node: 9510017, Score: 0.004385\n",
      "Node: 9402044, Score: 0.003935\n",
      "Node: 9711200, Score: 0.003410\n",
      "Node: 9410167, Score: 0.003407\n",
      "Node: 9408099, Score: 0.003190\n",
      "Node: 9207016, Score: 0.003114\n",
      "Node: 9402002, Score: 0.002962\n",
      "Node: 9610043, Score: 0.002753\n",
      "Node: 9205068, Score: 0.002662\n",
      "Node: 9510135, Score: 0.002591\n",
      "Node: 9201015, Score: 0.002554\n",
      "Node: 9205027, Score: 0.002459\n",
      "Node: 9304154, Score: 0.002333\n",
      "Node: 9802150, Score: 0.002256\n",
      "Node: 9401139, Score: 0.002246\n",
      "Node: 9504090, Score: 0.002107\n",
      "Node: 9802109, Score: 0.002071\n",
      "Node: 208020, Score: 0.002069\n",
      "Node: 9305185, Score: 0.002041\n",
      "Node: 9207053, Score: 0.001993\n",
      "Node: 9307049, Score: 0.001888\n",
      "Node: 9204102, Score: 0.001853\n",
      "Node: 9510209, Score: 0.001809\n",
      "Node: 9501068, Score: 0.001754\n",
      "Node: 9906064, Score: 0.001752\n",
      "Node: 9402032, Score: 0.001721\n",
      "Node: 9301042, Score: 0.001640\n",
      "Node: 9403198, Score: 0.001596\n",
      "Node: 9412184, Score: 0.001550\n",
      "Node: 9408074, Score: 0.001526\n",
      "Node: 9504047, Score: 0.001516\n",
      "Node: 9411149, Score: 0.001507\n",
      "Node: 9205081, Score: 0.001472\n",
      "Node: 9308139, Score: 0.001469\n",
      "Node: 9601029, Score: 0.001449\n",
      "Node: 9208055, Score: 0.001443\n",
      "Node: 9407031, Score: 0.001435\n",
      "Node: 9211056, Score: 0.001433\n",
      "Node: 9209016, Score: 0.001431\n",
      "Node: 9201019, Score: 0.001429\n",
      "Node: 9204083, Score: 0.001402\n",
      "Node: 9908142, Score: 0.001396\n",
      "Node: 9602052, Score: 0.001341\n",
      "Node: 9201054, Score: 0.001335\n",
      "Node: 9402005, Score: 0.001316\n",
      "Node: 9205051, Score: 0.001298\n",
      "Node: 9207060, Score: 0.001286\n",
      "Node: 9201061, Score: 0.001265\n",
      "Node: 9508143, Score: 0.001245\n",
      "Node: 9510169, Score: 0.001244\n",
      "Node: 9711162, Score: 0.001236\n",
      "Node: 9211097, Score: 0.001205\n",
      "Node: 9303057, Score: 0.001156\n",
      "Node: 9501030, Score: 0.001155\n",
      "Node: 9512062, Score: 0.001152\n",
      "Node: 9212085, Score: 0.001148\n",
      "Node: 9203066, Score: 0.001140\n",
      "Node: 9309097, Score: 0.001096\n",
      "Node: 9505053, Score: 0.001071\n",
      "Node: 9611050, Score: 0.001070\n",
      "Node: 9409089, Score: 0.001058\n",
      "Node: 9512077, Score: 0.001058\n",
      "Node: 9204099, Score: 0.001045\n",
      "Node: 9405124, Score: 0.001033\n",
      "Node: 9511030, Score: 0.001032\n",
      "Node: 9403040, Score: 0.001013\n",
      "Node: 9205037, Score: 0.001001\n",
      "Node: 9608024, Score: 0.000988\n",
      "Node: 9205008, Score: 0.000987\n",
      "Node: 9201059, Score: 0.000971\n",
      "Node: 9206016, Score: 0.000953\n",
      "Node: 9504027, Score: 0.000946\n",
      "Node: 9209116, Score: 0.000946\n",
      "Node: 9208078, Score: 0.000946\n",
      "Node: 9309145, Score: 0.000936\n",
      "Node: 9403195, Score: 0.000933\n",
      "Node: 9406128, Score: 0.000929\n",
      "Node: 9201056, Score: 0.000916\n",
      "Node: 9512059, Score: 0.000912\n",
      "Node: 9602022, Score: 0.000900\n",
      "Node: 9905111, Score: 0.000899\n",
      "Node: 9507121, Score: 0.000893\n",
      "Node: 9910093, Score: 0.000881\n",
      "Node: 9510086, Score: 0.000854\n",
      "Node: 9411048, Score: 0.000848\n",
      "Node: 9507158, Score: 0.000844\n",
      "Node: 9410073, Score: 0.000842\n",
      "Node: 9511222, Score: 0.000828\n",
      "Node: 9602135, Score: 0.000827\n",
      "Node: 9611042, Score: 0.000826\n",
      "Node: 9504145, Score: 0.000819\n",
      "Node: 9506194, Score: 0.000811\n",
      "Node: 9602043, Score: 0.000808\n",
      "Node: 9407111, Score: 0.000795\n",
      "Node: 9506126, Score: 0.000792\n",
      "Node: 9507050, Score: 0.000778\n",
      "Node: 9411057, Score: 0.000776\n",
      "Node: 9510225, Score: 0.000776\n"
     ]
    }
   ],
   "source": [
    "# Print top 100 nodes and their scores\n",
    "sorted_nodes = sorted(pagerank_scores.items(), key=lambda x: x[1], reverse=True)[:100]\n",
    "for node, score in sorted_nodes:\n",
    "    print(f\"Node: {node}, Score: {score:.6f}\")\n",
    "\n"
   ]
  },
  {
   "cell_type": "markdown",
   "id": "1b0caf75",
   "metadata": {},
   "source": [
    "Visualize your results"
   ]
  },
  {
   "cell_type": "code",
   "execution_count": 5,
   "id": "e7f6179b",
   "metadata": {},
   "outputs": [
    {
     "data": {
      "image/png": "[encoded data removed]",
      "text/plain": [
       "<Figure size 640x480 with 1 Axes>"
      ]
     },
     "metadata": {},
     "output_type": "display_data"
    }
   ],
   "source": [
    "# Plot histogram of PageRank scores for top 100 nodes\n",
    "scores = [score for node, score in sorted_nodes]\n",
    "plt.hist(scores, bins=20)\n",
    "plt.xlabel('PageRank score')\n",
    "plt.ylabel('Frequency')\n",
    "plt.title('Distribution of PageRank scores for top 100 nodes')\n",
    "plt.show()"
   ]
  },
  {
   "cell_type": "code",
   "execution_count": null,
   "id": "6b5aa2c4",
   "metadata": {},
   "outputs": [],
   "source": []
  }
 ],
 "metadata": {
  "kernelspec": {
   "display_name": "Python 3 (ipykernel)",
   "language": "python",
   "name": "python3"
  },
  "language_info": {
   "codemirror_mode": {
    "name": "ipython",
    "version": 3
   },
   "file_extension": ".py",
   "mimetype": "text/x-python",
   "name": "python",
   "nbconvert_exporter": "python",
   "pygments_lexer": "ipython3",
   "version": "3.9.13"
  }
 },
 "nbformat": 4,
 "nbformat_minor": 5
}
